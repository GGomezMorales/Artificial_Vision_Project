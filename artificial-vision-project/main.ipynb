{
 "cells": [
  {
   "cell_type": "markdown",
   "metadata": {},
   "source": [
    "<center><img src=\"https://minas.medellin.unal.edu.co/images/Escudo_color.png\" width=\"300\"></center>\n",
    "\n",
    "### **<center> <h2><strong>Reconocimiento de señales de tránsito y semaforos</strong></h2> </center>**\n",
    "<center> <t>[Names]<t> </center>\n"
   ]
  },
  {
   "cell_type": "markdown",
   "metadata": {},
   "source": [
    "# <center> <h5><strong>Introducción</strong></h5> </center>"
   ]
  },
  {
   "cell_type": "markdown",
   "metadata": {},
   "source": [
    "<center> <h4><strong>Contexto</strong></h4> </center>\n",
    "<p style='text-align: justify'>\n",
    "    Este proyecto de visión artificial está diseñado para implementarse en un robot móvil, el <a href=\"https://www.waveshare.com/wave-rover.htm\">Wave Rover</a>, equipado con una <a href=\"https://www.raspberrypi.com/products/raspberry-pi-4-model-b/\">Raspberry Pi 4</a> y <a href=\"https://www.raspberrypi.com/products/camera-module-v2/\">Raspberry Pi Camera Module 2</a>, permitiendo el procesamiento de imágenes y videos en tiempo real. Su objetivo es reconocer señales de tráfico y semáforos utilizando técnicas de visión computacional como procesamiento de imágenes y videos, así como el uso de redes neuronales convolucionales. La iniciativa busca mejorar la navegación autónoma del robot y contribuir al desarrollo de la conducción autónoma, empleando la base de datos <a href=\"https://benchmark.ini.rub.de/\">GTSRB</a> (German Traffic Sign Recognition Benchmark), que nos suministra miles de imágenes etiquetadas para entrenar modelos precisos y eficientes. Además, se integrarán algoritmos para detectar estados de semáforos en imágenes estáticas y secuencias de vídeo, <strong>*asegurando robustez bajo variadas condiciones ambientales y de iluminación*</strong>. Este sistema es ideal para vehículos autónomos y sistemas de asistencia a la conducción. Uno de los objetivo primordiales es diseñar y entrenar modelos de redes neuronales convolucionales (CNN), que puedan identificar y clasificar con precisión una amplia gama de señales de tránsito y los estados de los semáforos en diferentes condiciones ambientales y situaciones de tráfico. Se contempla la recopilación de un extenso dataset que incluya imágenes de señales y semáforos bajo diversas condiciones de iluminación, clima y obstrucciones visuales, lo que permitirá al modelo entrenarse en escenarios que reflejen la complejidad del mundo real. Además, el proyecto abordará el desafío de la integración de estos sistemas de reconocimiento en plataformas de hardware existentes en vehículos, <strong>*asegurando que la inferencia se realice en tiempo real y con un uso eficiente de los recursos computacionales. *</strong>\n",
    "<p>\n",
    "\n",
    "<center> <h4><strong>Tecnologia usada</strong></h4> </center>\n",
    "<p style='text-align: justify'>\n",
    "    Este proyecto implementa tecnologías como Docker, Conda, Jupyter Notebook, JupyterLab, OpenCV y TensorFlow para asegurar compatibilidad y facilidad de manejo de versiones a través de una imagen de Docker basada en Conda. Configuramos un entorno virtual en Conda con todas las dependencias necesarias, permitiendo la ejecución en cualquier sistema operativo compatible con Docker. Centralizamos todas las funciones en un archivo llamado <a href=\"https://github.com/GGomezMorales/artificial_vision_project/blob/main/artificial-vision-project/util.py\">util.py</a>, diseñado para claridad estructural del proyecto y facilidad de uso, empleando diversas bibliotecas para las operaciones y la lógica requerida. A pesar de la robustez en el manejo de errores y el diseño orientado a objetivos generales, las funciones aún necesitan ser documentadas.\n",
    "<p>\n",
    "\n",
    "<p style='text-align: justify'>\n",
    "    Es importante destacar que todo el proceso se lleva a cabo dentro de un contenedor de Docker. Este contenedor está configurado para integrar un entorno Conda, que contiene todas las dependencias necesarias para el proyecto. Esta configuración permite el uso directo y eficiente del proyecto desde un IDE como Visual Studio Code.\n",
    "<p>\n",
    "\n",
    "<p style='text-align: justify'>\n",
    "    <strong>¿Por qué usar Docker?</strong> Esta tecnología ofrece una plataforma consistente para el desarrollo, lo que elimina los problemas de <i>\"funciona en mi máquina\"</i> al garantizar que el software se ejecute de manera idéntica en cualquier entorno. Docker facilita la gestión de dependencias y la configuración necesaria para operar el proyecto, asegurando que todas las herramientas y librerías, como OpenCV y TensorFlow, funcionen en un entorno aislado y controlado.\n",
    "<p>\n"
   ]
  },
  {
   "cell_type": "markdown",
   "metadata": {},
   "source": [
    "# <center> <h5><strong>Adquisición de imágenes</strong></h5> </center>"
   ]
  },
  {
   "cell_type": "markdown",
   "metadata": {},
   "source": [
    "<p style='text-align: justify'>\n",
    "    El German Traffic Sign Benchmark es un desafío de clasificación multiclase de una sola imagen celebrado en la International Joint Conference on Neural Networks (IJCNN) 2011. Tiene las siguientes propiedades:\n",
    "<p>\n",
    "\n",
    "<ul>\n",
    "    <li>Problema de clasificación multiclase de una sola imagen</li>\n",
    "    <li>Más de 40 clases</li>\n",
    "    <li>Más de 50.000 imágenes en total</li>\n",
    "    <li>Base de datos amplia y realista</li>\n",
    "</ul>\n",
    "\n",
    "\n",
    "<p style='text-align: justify'>\n",
    "    El German Traffic Sign Recognition Benchmark (GTSRB) es un conjunto de datos fundamental para el desarrollo de sistemas de reconocimiento de señales de tráfico, esencial para aplicaciones como la conducción autónoma y los sistemas de asistencia al conductor.\n",
    "<p>\n",
    "\n",
    "<p style='text-align: justify'>\n",
    "    GTSRB fue creado por el Instituto de Neuroinformática de la Universidad Ruhr de Bochum, Alemania, y se presentó oficialmente en 2011 durante una competencia en la Conferencia Internacional Conjunta sobre Redes Neuronales (IJCNN). Su objetivo es apoyar el desarrollo y la evaluación de sistemas automáticos para la detección y reconocimiento de señales de tráfico en condiciones reales.\n",
    "<p>\n",
    "\n",
    "<p style='text-align: justify'>\n",
    "    El conjunto de datos contiene más de 50,000 imágenes y abarca 43 clases diferentes de señales de tráfico, que incluyen límites de velocidad, señales de advertencia y signos prohibitivos, entre otros. Las imágenes varían en tamaño, forma y apariencia, e incluyen desafíos como oclusiones parciales, diversas condiciones de iluminación y diferentes distancias y ángulos de captura de la cámara. Cada imagen está acompañada de anotaciones que especifican la clase y las coordenadas del cuadro delimitador de la señal dentro de la imagen.\n",
    "<p>\n",
    "\n",
    "<p style='text-align: justify'>\n",
    "    El GTSRB se divide en un conjunto de entrenamiento con 39,209 imágenes y un conjunto de pruebas con 12,630 imágenes. Esto permite evaluar la eficacia de los modelos entrenados en un entorno controlado. Las anotaciones adicionales incluyen etiquetas de clase y coordenadas de cuadros delimitadores, que son cruciales para tareas de segmentación y reconocimiento.\n",
    "<p>\n",
    "\n",
    "<p style='text-align: justify'>\n",
    "    \n",
    "<p>\n"
   ]
  },
  {
   "cell_type": "code",
   "execution_count": 7,
   "metadata": {},
   "outputs": [],
   "source": [
    "from util import *\n",
    "\n",
    "import cv2\n",
    "from matplotlib import pyplot as plt\n",
    "import numpy as np\n",
    "from IPython.display import Image, clear_output"
   ]
  },
  {
   "cell_type": "markdown",
   "metadata": {},
   "source": [
    "Creamos una carpeta denominada `/.kaggle` que se utiliza para almacenar las credenciales necesarias para interactuar con los datasets de Kaggle a través de la línea de comandos."
   ]
  },
  {
   "cell_type": "code",
   "execution_count": 8,
   "metadata": {},
   "outputs": [],
   "source": [
    "! mkdir -p /.kaggle\n",
    "! cp res/kaggle.json /.kaggle/\n",
    "\n",
    "clear_output()"
   ]
  },
  {
   "cell_type": "markdown",
   "metadata": {},
   "source": [
    "Procedimos a descargar el archivo comprimido en una carpeta denominada /datasets. Una vez descargado, descomprimimos el contenido y, posteriormente, eliminamos el archivo comprimido para optimizar el espacio de almacenamiento."
   ]
  },
  {
   "cell_type": "code",
   "execution_count": 9,
   "metadata": {},
   "outputs": [],
   "source": [
    "! kaggle datasets download -d meowmeowmeowmeowmeow/gtsrb-german-traffic-sign -p /datasets\n",
    "! cd /datasets && mkdir -p data-traffic-sign && cd data-traffic-sign && unzip /datasets/gtsrb-german-traffic-sign.zip\n",
    "! rm /datasets/gtsrb-german-traffic-sign.zip\n",
    "\n",
    "clear_output()"
   ]
  },
  {
   "cell_type": "markdown",
   "metadata": {},
   "source": [
    "# <center> <h5><strong>Preprocesamiento de las imágenes</strong></h5> </center>\n",
    "<p style='text-align: justify'>\n",
    "    \n",
    "<p>"
   ]
  }
 ],
 "metadata": {
  "kernelspec": {
   "display_name": "Python [conda env:artificial_vision_project]",
   "language": "python",
   "name": "conda-env-artificial_vision_project-py"
  },
  "language_info": {
   "codemirror_mode": {
    "name": "ipython",
    "version": 3
   },
   "file_extension": ".py",
   "mimetype": "text/x-python",
   "name": "python",
   "nbconvert_exporter": "python",
   "pygments_lexer": "ipython3",
   "version": "3.11.5"
  }
 },
 "nbformat": 4,
 "nbformat_minor": 4
}
