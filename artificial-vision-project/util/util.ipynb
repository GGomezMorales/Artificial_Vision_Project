{
 "cells": [
  {
   "cell_type": "code",
   "execution_count": 1,
   "metadata": {
    "id": "77NaNX1TUb_0"
   },
   "outputs": [],
   "source": [
    "import numpy as np\n",
    "import cv2\n",
    "import matplotlib.pyplot as plt"
   ]
  },
  {
   "cell_type": "code",
   "execution_count": null,
   "metadata": {},
   "outputs": [],
   "source": [
    "def display_image_and_histogram_plot(img_gray):\n",
    "    fig, (ax1, ax2) = plt.subplots(1, 2, figsize=(10, 5))\n",
    "    ax1.imshow(img_gray, cmap = \"gray\")\n",
    "    ax1.set_title('Image')\n",
    "    histogram, bins = np.histogram(img_gray.ravel(), 256, [0, 256], density= True)\n",
    "    ax2.plot(histogram)\n",
    "    ax2.set_title('Histogram')\n",
    "    ax2.set_xlim([0, 256])\n",
    "    plt.show()"
   ]
  },
  {
   "cell_type": "code",
   "execution_count": null,
   "metadata": {},
   "outputs": [],
   "source": [
    "def display_image_and_color_histogram_plot(img_color):\n",
    "    fig, (ax1, ax2) = plt.subplots(1, 2, figsize=(10, 5))\n",
    "    ax1.imshow(img_color)\n",
    "    ax1.set_title('Image')\n",
    "    histogram_red, bins = np.histogram(img_color[:,:,0].ravel(), 256, [0, 256], density = True)\n",
    "    histogram_green, bins = np.histogram(img_color[:,:,1].ravel(), 256, [0, 256], density = True)\n",
    "    histogram_blue, bins = np.histogram(img_color[:,:,2].ravel(), 256, [0, 256], density = True)\n",
    "    ax2.plot(histogram_red, color='r')\n",
    "    ax2.plot(histogram_green, color='g')\n",
    "    ax2.plot(histogram_blue, color='b')\n",
    "    ax2.set_title('Color Histogram')\n",
    "    ax2.set_xlim([0, 256])\n",
    "    plt.show()\n",
    "    "
   ]
  },
  {
   "cell_type": "code",
   "execution_count": 2,
   "metadata": {},
   "outputs": [],
   "source": [
    "def img_read(filename, mode='color'):\n",
    "    if mode == 'color':\n",
    "        return cv2.cvtColor(cv2.imread(filename), cv2.COLOR_BGR2RGB)\n",
    "    elif mode in ('grayscale', 'greyscale', 'gray', 'grey'):\n",
    "        return cv2.imread(filename, cv2.IMREAD_GRAYSCALE)\n",
    "    else:\n",
    "        return None\n",
    "    "
   ]
  }
 ],
 "metadata": {
  "colab": {
   "collapsed_sections": [],
   "name": "Funciones de transformación basicas.ipynb",
   "provenance": []
  },
  "kernelspec": {
   "display_name": "Python [conda env:artificial_vision_project]",
   "language": "python",
   "name": "conda-env-artificial_vision_project-py"
  },
  "language_info": {
   "codemirror_mode": {
    "name": "ipython",
    "version": 3
   },
   "file_extension": ".py",
   "mimetype": "text/x-python",
   "name": "python",
   "nbconvert_exporter": "python",
   "pygments_lexer": "ipython3",
   "version": "3.11.8"
  },
  "vscode": {
   "interpreter": {
    "hash": "46e1e456ff4cff08ba02504fb062aa4f8b673330d78402b7d12dde60bf23516d"
   }
  }
 },
 "nbformat": 4,
 "nbformat_minor": 4
}
